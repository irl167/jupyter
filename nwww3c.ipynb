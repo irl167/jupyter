{
 "cells": [
  {
   "cell_type": "code",
   "execution_count": 4,
   "metadata": {},
   "outputs": [
    {
     "name": "stdout",
     "output_type": "stream",
     "text": [
      "{'time': <class 'netCDF4._netCDF4.Variable'>\n",
      "float64 time(time)\n",
      "    grads_dim: t\n",
      "    grads_mapping: linear\n",
      "    grads_size: 61\n",
      "    grads_min: 00z05jul2020\n",
      "    grads_step: 3hr\n",
      "    units: days since 1-1-1 00:00:0.0\n",
      "    long_name: time\n",
      "    minimum: 00z05jul2020\n",
      "    maximum: 12z12jul2020\n",
      "    resolution: 0.125\n",
      "unlimited dimensions: \n",
      "current shape = (61,)\n",
      "filling off, 'lat': <class 'netCDF4._netCDF4.Variable'>\n",
      "float64 lat(lat)\n",
      "    grads_dim: y\n",
      "    grads_mapping: linear\n",
      "    grads_size: 336\n",
      "    units: degrees_north\n",
      "    long_name: latitude\n",
      "    minimum: -77.5\n",
      "    maximum: 90.0\n",
      "    resolution: 0.5\n",
      "unlimited dimensions: \n",
      "current shape = (336,)\n",
      "filling off, 'lon': <class 'netCDF4._netCDF4.Variable'>\n",
      "float64 lon(lon)\n",
      "    grads_dim: x\n",
      "    grads_mapping: linear\n",
      "    grads_size: 720\n",
      "    units: degrees_east\n",
      "    long_name: longitude\n",
      "    minimum: 0.0\n",
      "    maximum: 359.5\n",
      "    resolution: 0.5\n",
      "unlimited dimensions: \n",
      "current shape = (720,)\n",
      "filling off, 'dirpwsfc': <class 'netCDF4._netCDF4.Variable'>\n",
      "float32 dirpwsfc(time, lat, lon)\n",
      "    _FillValue: 9.999e+20\n",
      "    missing_value: 9.999e+20\n",
      "    long_name: ** surface primary wave direction [deg] \n",
      "unlimited dimensions: \n",
      "current shape = (61, 336, 720)\n",
      "filling off, 'htsgwsfc': <class 'netCDF4._netCDF4.Variable'>\n",
      "float32 htsgwsfc(time, lat, lon)\n",
      "    _FillValue: 9.999e+20\n",
      "    missing_value: 9.999e+20\n",
      "    long_name: ** surface significant height of combined wind waves and swell [m] \n",
      "unlimited dimensions: \n",
      "current shape = (61, 336, 720)\n",
      "filling off, 'perpwsfc': <class 'netCDF4._netCDF4.Variable'>\n",
      "float32 perpwsfc(time, lat, lon)\n",
      "    _FillValue: 9.999e+20\n",
      "    missing_value: 9.999e+20\n",
      "    long_name: ** surface primary wave mean period [s] \n",
      "unlimited dimensions: \n",
      "current shape = (61, 336, 720)\n",
      "filling off, 'swdir_1': <class 'netCDF4._netCDF4.Variable'>\n",
      "float32 swdir_1(time, lat, lon)\n",
      "    _FillValue: 9.999e+20\n",
      "    missing_value: 9.999e+20\n",
      "    long_name: ** 1 in sequence direction of swell waves [deg] \n",
      "unlimited dimensions: \n",
      "current shape = (61, 336, 720)\n",
      "filling off, 'swdir_2': <class 'netCDF4._netCDF4.Variable'>\n",
      "float32 swdir_2(time, lat, lon)\n",
      "    _FillValue: 9.999e+20\n",
      "    missing_value: 9.999e+20\n",
      "    long_name: ** 2 in sequence direction of swell waves [deg] \n",
      "unlimited dimensions: \n",
      "current shape = (61, 336, 720)\n",
      "filling off, 'swell_1': <class 'netCDF4._netCDF4.Variable'>\n",
      "float32 swell_1(time, lat, lon)\n",
      "    _FillValue: 9.999e+20\n",
      "    missing_value: 9.999e+20\n",
      "    long_name: ** 1 in sequence significant height of swell waves [m] \n",
      "unlimited dimensions: \n",
      "current shape = (61, 336, 720)\n",
      "filling off, 'swell_2': <class 'netCDF4._netCDF4.Variable'>\n",
      "float32 swell_2(time, lat, lon)\n",
      "    _FillValue: 9.999e+20\n",
      "    missing_value: 9.999e+20\n",
      "    long_name: ** 2 in sequence significant height of swell waves [m] \n",
      "unlimited dimensions: \n",
      "current shape = (61, 336, 720)\n",
      "filling off, 'swper_1': <class 'netCDF4._netCDF4.Variable'>\n",
      "float32 swper_1(time, lat, lon)\n",
      "    _FillValue: 9.999e+20\n",
      "    missing_value: 9.999e+20\n",
      "    long_name: ** 1 in sequence mean period of swell waves [s] \n",
      "unlimited dimensions: \n",
      "current shape = (61, 336, 720)\n",
      "filling off, 'swper_2': <class 'netCDF4._netCDF4.Variable'>\n",
      "float32 swper_2(time, lat, lon)\n",
      "    _FillValue: 9.999e+20\n",
      "    missing_value: 9.999e+20\n",
      "    long_name: ** 2 in sequence mean period of swell waves [s] \n",
      "unlimited dimensions: \n",
      "current shape = (61, 336, 720)\n",
      "filling off, 'ugrdsfc': <class 'netCDF4._netCDF4.Variable'>\n",
      "float32 ugrdsfc(time, lat, lon)\n",
      "    _FillValue: 9.999e+20\n",
      "    missing_value: 9.999e+20\n",
      "    long_name: ** surface u-component of wind [m/s] \n",
      "unlimited dimensions: \n",
      "current shape = (61, 336, 720)\n",
      "filling off, 'vgrdsfc': <class 'netCDF4._netCDF4.Variable'>\n",
      "float32 vgrdsfc(time, lat, lon)\n",
      "    _FillValue: 9.999e+20\n",
      "    missing_value: 9.999e+20\n",
      "    long_name: ** surface v-component of wind [m/s] \n",
      "unlimited dimensions: \n",
      "current shape = (61, 336, 720)\n",
      "filling off, 'wdirsfc': <class 'netCDF4._netCDF4.Variable'>\n",
      "float32 wdirsfc(time, lat, lon)\n",
      "    _FillValue: 9.999e+20\n",
      "    missing_value: 9.999e+20\n",
      "    long_name: ** surface wind direction (from which blowing) [deg] \n",
      "unlimited dimensions: \n",
      "current shape = (61, 336, 720)\n",
      "filling off, 'windsfc': <class 'netCDF4._netCDF4.Variable'>\n",
      "float32 windsfc(time, lat, lon)\n",
      "    _FillValue: 9.999e+20\n",
      "    missing_value: 9.999e+20\n",
      "    long_name: ** surface wind speed [m/s] \n",
      "unlimited dimensions: \n",
      "current shape = (61, 336, 720)\n",
      "filling off, 'wvdirsfc': <class 'netCDF4._netCDF4.Variable'>\n",
      "float32 wvdirsfc(time, lat, lon)\n",
      "    _FillValue: 9.999e+20\n",
      "    missing_value: 9.999e+20\n",
      "    long_name: ** surface direction of wind waves [deg] \n",
      "unlimited dimensions: \n",
      "current shape = (61, 336, 720)\n",
      "filling off, 'wvhgtsfc': <class 'netCDF4._netCDF4.Variable'>\n",
      "float32 wvhgtsfc(time, lat, lon)\n",
      "    _FillValue: 9.999e+20\n",
      "    missing_value: 9.999e+20\n",
      "    long_name: ** surface significant height of wind waves [m] \n",
      "unlimited dimensions: \n",
      "current shape = (61, 336, 720)\n",
      "filling off, 'wvpersfc': <class 'netCDF4._netCDF4.Variable'>\n",
      "float32 wvpersfc(time, lat, lon)\n",
      "    _FillValue: 9.999e+20\n",
      "    missing_value: 9.999e+20\n",
      "    long_name: ** surface mean period of wind waves [s] \n",
      "unlimited dimensions: \n",
      "current shape = (61, 336, 720)\n",
      "filling off}\n",
      "Directory  test_Hs  already exists\n"
     ]
    }
   ],
   "source": [
    "import os\n",
    "import glob\n",
    "import netCDF4\n",
    "import numpy as np\n",
    "import matplotlib.pyplot as plt\n",
    "from mpl_toolkits.basemap import Basemap\n",
    "from IPython.display import Image\n",
    "from IPython.display import HTML\n",
    "from moviepy.editor import *\n",
    "from datetime import date\n",
    "import warnings\n",
    "warnings.filterwarnings('ignore')\n",
    "\n",
    "# get today values or else, use: date = 'YYYYmmdd', i.e.: \n",
    "date = '20200705'\n",
    "#today = date.today()\n",
    "#date = today.strftime(\"%Y%m%d\")\n",
    "\n",
    "url00 = 'https://nomads.ncep.noaa.gov:9090/dods/wave/mww3/'+date+'/multi_1.glo_30mext'+date+'_00z'\n",
    "\n",
    "# print all variables to check their names\n",
    "file = netCDF4.Dataset(url00)\n",
    "data = file.variables\n",
    "print(data)\n",
    "file.close()\n",
    "\n",
    "# create directory\n",
    "dirName = 'test_Hs'\n",
    " \n",
    "try:\n",
    "    # Create target Directory\n",
    "    os.mkdir(dirName)\n",
    "    print(\"Directory \" , dirName ,  \" Created \") \n",
    "except FileExistsError:\n",
    "    print(\"Directory \" , dirName ,  \" already exists\")\n"
   ]
  },
  {
   "cell_type": "code",
   "execution_count": 16,
   "metadata": {},
   "outputs": [
    {
     "name": "stderr",
     "output_type": "stream",
     "text": [
      "t:   4%|▍         | 6/140 [00:00<00:02, 55.14it/s, now=None]"
     ]
    },
    {
     "name": "stdout",
     "output_type": "stream",
     "text": [
      "Moviepy - Building video 20200705-Globe.mp4.\n",
      "Moviepy - Writing video 20200705-Globe.mp4\n",
      "\n"
     ]
    },
    {
     "name": "stderr",
     "output_type": "stream",
     "text": [
      "                                                              \r"
     ]
    },
    {
     "name": "stdout",
     "output_type": "stream",
     "text": [
      "Moviepy - Done !\n",
      "Moviepy - video ready 20200705-Globe.mp4\n"
     ]
    },
    {
     "data": {
      "text/html": [
       "<video src=\"20200705-Globe.mp4\" controls  >\n",
       "      Your browser does not support the <code>video</code> element.\n",
       "    </video>"
      ],
      "text/plain": [
       "<IPython.core.display.Video object>"
      ]
     },
     "execution_count": 16,
     "metadata": {},
     "output_type": "execute_result"
    },
    {
     "data": {
      "text/plain": [
       "<Figure size 432x288 with 0 Axes>"
      ]
     },
     "metadata": {},
     "output_type": "display_data"
    },
    {
     "data": {
      "text/plain": [
       "<Figure size 432x288 with 0 Axes>"
      ]
     },
     "metadata": {},
     "output_type": "display_data"
    },
    {
     "data": {
      "text/plain": [
       "<Figure size 432x288 with 0 Axes>"
      ]
     },
     "metadata": {},
     "output_type": "display_data"
    },
    {
     "data": {
      "text/plain": [
       "<Figure size 432x288 with 0 Axes>"
      ]
     },
     "metadata": {},
     "output_type": "display_data"
    },
    {
     "data": {
      "text/plain": [
       "<Figure size 432x288 with 0 Axes>"
      ]
     },
     "metadata": {},
     "output_type": "display_data"
    },
    {
     "data": {
      "text/plain": [
       "<Figure size 432x288 with 0 Axes>"
      ]
     },
     "metadata": {},
     "output_type": "display_data"
    },
    {
     "data": {
      "text/plain": [
       "<Figure size 432x288 with 0 Axes>"
      ]
     },
     "metadata": {},
     "output_type": "display_data"
    }
   ],
   "source": [
    "# example of Hs worldwide\n",
    "file = netCDF4.Dataset(url00)\n",
    "lat  = file.variables['lat'][:]\n",
    "lon  = file.variables['lon'][:]\n",
    "time = file.variables['time'][:]\n",
    "data = file.variables['htsgwsfc'][0,:,:]\n",
    "\n",
    "# draw images\n",
    "for t in range (0, 7):\n",
    "    plt.figure()\n",
    "    m=Basemap(projection='ortho',lat_0=45,lon_0=0-(t*10),resolution='l')\n",
    "    x,y = m(*np.meshgrid(lon,lat))\n",
    "    x = np.ma.masked_array(x, ~np.isfinite(x)).filled(0)\n",
    "    y = np.ma.masked_array(y, ~np.isfinite(y)).filled(0)\n",
    "    m.pcolormesh(x,y,data,shading='flat',cmap=plt.cm.jet)\n",
    "    m.colorbar(location='right')\n",
    "    m.drawcoastlines()\n",
    "    m.fillcontinents()\n",
    "    plt.title('Hs-Globe')\n",
    "    plt.savefig('test_Hs/Globe'+str(t)+'.png')\n",
    "    plt.clf()\n",
    "file.close()\n",
    "\n",
    "# transform into video\n",
    "files = glob.glob(\"test_Hs/Globe*.png\")\n",
    "files_sorted = sorted(files, key=lambda x: float((x.split('test_Hs/Globe')[1]).split('.png')[0]))\n",
    "clips = [ImageClip(m).set_duration(1)\n",
    "         for m in files_sorted]\n",
    "concat_clip = concatenate_videoclips(clips, method=\"compose\")\n",
    "concat_clip.write_videofile(date+\"-Globe.mp4\", fps=20)\n",
    "\n",
    "# delete images\n",
    "os.system(\"rm -rf test_Hs\")\n",
    "\n",
    "# play video\n",
    "from IPython.display import Video\n",
    "\n",
    "Video(date+'-Globe.mp4')\n"
   ]
  },
  {
   "cell_type": "code",
   "execution_count": null,
   "metadata": {},
   "outputs": [],
   "source": []
  }
 ],
 "metadata": {
  "kernelspec": {
   "display_name": "Python 3",
   "language": "python",
   "name": "python3"
  },
  "language_info": {
   "codemirror_mode": {
    "name": "ipython",
    "version": 3
   },
   "file_extension": ".py",
   "mimetype": "text/x-python",
   "name": "python",
   "nbconvert_exporter": "python",
   "pygments_lexer": "ipython3",
   "version": "3.7.4"
  }
 },
 "nbformat": 4,
 "nbformat_minor": 4
}
